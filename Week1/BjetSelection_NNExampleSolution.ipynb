{
 "cells": [
  {
   "cell_type": "markdown",
   "metadata": {},
   "source": [
    "# Classification of b-quark jets in the Aleph simulated data\n",
    "\n",
    "Python macro for selecting \"events of interest\". You may choose between two data samples:\n",
    "1. b-jets (sprays of particles with a b-quark in it) in Aleph Z -> qqbar MC (i.e. simulated decays of the Z0 boson decaying to a quark and an anti-quark).\n",
    "2. A \"medical\" dataset regarding lifestyle diseases (reduced in size to match the Aleph b-jet data set).\n",
    "\n",
    "In the following, we discuss the problem from the b-jet point of view, as this is where the largest size datasets are available. However, we stress that from the point of view of ML, data content (what is being considered) is not essential to know. And knowing this requires domain knowledge, i.e. that you are an expert in the specific field, that the data comes from. This part is very important, but not the focus in this course.\n",
    "\n",
    "You are to make the selection in two ways:\n",
    "* Initially, simply with \"if\"-statements making requirements on certain variables. This corresponds to selecting \"boxes\" in the input variable space (typically called \"X\"). One could also try a Fisher discriminant (linear combination of input variables), which corresponds to a plane in the X-space. But as the problem is non-linear, it is likely to be sub-optimal.\n",
    "\n",
    "* Next using Machine Learning (ML) methods. We will during the first week try both (Boosted) Decision Tree ((B)DT) based and Neural Net (NN) based methods, and see how complicated (or not) it is to get a good solution, and how much better it performs compared to the \"classic\" selection method.\n",
    "\n",
    "Once you obtain a classification of b-jets vs. non-b-jets, think about how to quantify the quality of your algorithm. Also, try to compare it to the NN result of the Aleph collaboration, given by the variable \"nnbjet\". It is based on a neural network with 6 input variables (prob_b, spheri, pt2rel, multip, bqvjet, and ptlrel), and two hidden layers each with 10 nodes in. Can you do better?\n",
    "\n",
    "In the end, this exercise is the simple start \"outside ML\" and moving into the territory of Machine Learning analysis.\n",
    "\n",
    "\n",
    "### Data:\n",
    "The input variables (X) are (where Aleph uses only the first six):\n",
    "* **prob_b**: Probability of being a b-jet from the pointing of the tracks to the vertex.\n",
    "* **spheri**: Sphericity of the event, i.e. how spherical it is.\n",
    "* **pt2rel**: The transverse momentum squared of the tracks relative to the jet axis, i.e. width of the jet.\n",
    "* **multip**: Multiplicity of the jet (in a relative measure).\n",
    "* **bqvjet**: b-quark vertex of the jet, i.e. the probability of a detached vertex.\n",
    "* **ptlrel**: Transverse momentum (in GeV) of possible lepton with respect to jet axis (about 0 if no leptons).\n",
    "* energy: Measured energy of the jet in GeV. Should be 45 GeV, but fluctuates.\n",
    "* cTheta: cos(theta), i.e. the polar angle of the jet with respect to the beam axis. Note, that the detector works best in the central region (|cTheta| small) and less well in the forward regions.\n",
    "* phi:    The azimuth angle of the jet. As the detector is uniform in phi, this should not matter (much).\n",
    "\n",
    "The target variable (Y) is:\n",
    "* isb:    1 if it is from a b-quark and 0, if it is not.\n",
    "\n",
    "Finally, those before you (the Aleph collaboration in the mid 90'ies) produced a Neural Net (6 input variables, two hidden layers with 10 neurons in each, and 1 output varible) based classification variable, which you can compare to (and compete with?):\n",
    "* nnbjet: Value of original Aleph b-jet tagging algorithm, using only the last six variables (for reference).\n",
    "\n",
    "\n",
    "### Task:\n",
    "Thus, the task before you is to produce functions (non-ML and then ML algorithm), which given the input variables X provides an output variable estimate, Y_est, which is \"closest possible\" to the target variable, Y. The \"closest possible\" is left to the user to define in a _Loss Function_, which we will discuss further. In classification problems (such as this), the typical loss function to use \"Cross Entropy\", see https://en.wikipedia.org/wiki/Cross_entropy.\n",
    "\n",
    "Once you have results, you're welcome to continue with a Fisher Linear Discriminant, and you may also challenge yourself by considering \"v1\" of the data, which is a little less \"polished and ready\". If you also manage this, then don't hold back in applying a real ML algorithm to the problem (you can get inspiration from \"ML_MethodsDemos.ipynb\" or the vast internet). A suggestion might be XGBoost or LightGBM.\n",
    "\n",
    "* Author: Troels C. Petersen (NBI)\n",
    "* Email:  petersen@nbi.dk\n",
    "* Date:   17th of April 2024"
   ]
  },
  {
   "cell_type": "code",
   "execution_count": 1,
   "metadata": {},
   "outputs": [],
   "source": [
    "from __future__ import print_function, division   # Ensures Python3 printing & division standard\n",
    "from matplotlib import pyplot as plt\n",
    "from matplotlib import colors\n",
    "from matplotlib.colors import LogNorm\n",
    "import numpy as np\n",
    "import csv"
   ]
  },
  {
   "cell_type": "markdown",
   "metadata": {},
   "source": [
    "Possible other packages to consider:\n",
    "cornerplot, seaplot, sklearn.decomposition(PCA)"
   ]
  },
  {
   "cell_type": "code",
   "execution_count": 2,
   "metadata": {},
   "outputs": [],
   "source": [
    "r = np.random\n",
    "r.seed(42)\n",
    "\n",
    "SavePlots = False\n",
    "plt.close('all')"
   ]
  },
  {
   "cell_type": "markdown",
   "metadata": {},
   "source": [
    "# Evaluate an attempt at classification:\n",
    "\n",
    "This is made into a function, as this is called many times. It returns a \"confusion matrix\" and the fraction of wrong classifications."
   ]
  },
  {
   "cell_type": "code",
   "execution_count": 3,
   "metadata": {},
   "outputs": [],
   "source": [
    "def evaluate(bquark) :\n",
    "    N = [[0,0], [0,0]]   # Make a list of lists (i.e. confusion matrix) for counting successes/failures.\n",
    "    for i in np.arange(len(isb)):\n",
    "        if (bquark[i] == 0 and isb[i] == 0) : N[0][0] += 1\n",
    "        if (bquark[i] == 0 and isb[i] == 1) : N[0][1] += 1\n",
    "        if (bquark[i] == 1 and isb[i] == 0) : N[1][0] += 1\n",
    "        if (bquark[i] == 1 and isb[i] == 1) : N[1][1] += 1\n",
    "    fracWrong = float(N[0][1]+N[1][0])/float(len(isb))\n",
    "    accuracy = 1.0 - fracWrong\n",
    "    return N, accuracy, fracWrong"
   ]
  },
  {
   "cell_type": "markdown",
   "metadata": {},
   "source": [
    "# Main program start:\n",
    "\n",
    "Read in the data, and make arrays of each variable (and understand these!)."
   ]
  },
  {
   "cell_type": "code",
   "execution_count": 4,
   "metadata": {},
   "outputs": [],
   "source": [
    "# Get data (with this very useful NumPy reader):\n",
    "data = np.genfromtxt('AlephBtag_MC_train_Nev5000.csv', names=True)    # For faster running\n",
    "# data = np.genfromtxt('AlephBtag_MC_train_Nev50000.csv', names=True)   # For more data\n",
    "\n",
    "# Kinematics (energy and direction) of the jet:\n",
    "energy = data['energy']\n",
    "cTheta = data['cTheta']\n",
    "phi    = data['phi']\n",
    "\n",
    "# Classification variables (those used in Aleph's NN):\n",
    "prob_b = data['prob_b']\n",
    "spheri = data['spheri']\n",
    "pt2rel = data['pt2rel']\n",
    "multip = data['multip']\n",
    "bqvjet = data['bqvjet']\n",
    "ptlrel = data['ptlrel']\n",
    "\n",
    "# Aleph's NN score:\n",
    "nnbjet = data['nnbjet']\n",
    "\n",
    "# Truth variable whether it really was a b-jet or not (i.e. target)\n",
    "isb    = data['isb']"
   ]
  },
  {
   "cell_type": "markdown",
   "metadata": {},
   "source": [
    "# Inspect the data:\n",
    "Define the histogram range and binning (important - programs are generally NOT good at this):"
   ]
  },
  {
   "cell_type": "code",
   "execution_count": 5,
   "metadata": {},
   "outputs": [],
   "source": [
    "Nbins = 100\n",
    "xmin = 0.0\n",
    "xmax = 1.0"
   ]
  },
  {
   "cell_type": "markdown",
   "metadata": {},
   "source": [
    "### Make new lists selected based on what the jets really are (b-quark jet or light-quark jet):"
   ]
  },
  {
   "cell_type": "code",
   "execution_count": 6,
   "metadata": {},
   "outputs": [],
   "source": [
    "prob_b_bjets = prob_b[isb == 1]\n",
    "prob_b_ljets = prob_b[isb == 0]\n",
    "bqvjet_bjets = bqvjet[isb == 1]\n",
    "bqvjet_ljets = bqvjet[isb == 0]"
   ]
  },
  {
   "cell_type": "markdown",
   "metadata": {},
   "source": [
    "### Produce 1D figures:"
   ]
  },
  {
   "cell_type": "code",
   "execution_count": 7,
   "metadata": {},
   "outputs": [
    {
     "data": {
      "image/png": "[encoded data removed]",
      "text/plain": [
       "<Figure size 864x432 with 1 Axes>"
      ]
     },
     "metadata": {
      "needs_background": "light"
     },
     "output_type": "display_data"
    }
   ],
   "source": [
    "# Produce the actual figure, here with two histograms in it:\n",
    "fig, ax = plt.subplots(figsize=(12, 6))      # Create just a single figure and axes (figsize is in inches!)\n",
    "hist_prob_b_bjets = ax.hist(prob_b_bjets, bins=Nbins, range=(xmin, xmax), histtype='step', linewidth=2, label='prob_b_bjets', color='blue')\n",
    "hist_prob_b_ljets = ax.hist(prob_b_ljets, bins=Nbins, range=(xmin, xmax), histtype='step', linewidth=2, label='prob_b_ljets', color='red')\n",
    "ax.set_xlabel(\"Probability of b-quark based on track impact parameters\")     # Label of x-axis\n",
    "ax.set_ylabel(\"Frequency / 0.01\")                                            # Label of y-axis\n",
    "ax.set_title(\"Distribution of prob_b\")                                       # Title of plot\n",
    "ax.set_yscale(\"log\")\n",
    "ax.legend(loc='best')                                                        # Legend. Could also be 'upper right'\n",
    "ax.grid(axis='y')\n",
    "\n",
    "fig.tight_layout()\n",
    "\n",
    "if SavePlots :\n",
    "    fig.savefig('Hist_prob_b_and_bqvjet.pdf', dpi=600)"
   ]
  },
  {
   "cell_type": "markdown",
   "metadata": {},
   "source": [
    "### Produce 2D figures:"
   ]
  },
  {
   "cell_type": "code",
   "execution_count": 8,
   "metadata": {},
   "outputs": [
    {
     "data": {
      "image/png": "[encoded data removed]",
      "text/plain": [
       "<Figure size 864x432 with 1 Axes>"
      ]
     },
     "metadata": {
      "needs_background": "light"
     },
     "output_type": "display_data"
    },
    {
     "data": {
      "image/png": "[encoded data removed]",
      "text/plain": [
       "<Figure size 864x432 with 2 Axes>"
      ]
     },
     "metadata": {
      "needs_background": "light"
     },
     "output_type": "display_data"
    }
   ],
   "source": [
    "# First we try a scatter plot, to see how the individual events distribute themselves:\n",
    "fig2, ax2 = plt.subplots(figsize=(12, 6))\n",
    "scat2_prob_b_vs_bqvjet_bjets = ax2.scatter(prob_b_bjets, bqvjet_bjets, label='b-jets', color='blue')\n",
    "scat2_prob_b_vs_bqvjet_ljets = ax2.scatter(prob_b_ljets, bqvjet_ljets, label='l-jets', color='red')\n",
    "ax2.legend(loc='best')\n",
    "fig2.tight_layout()\n",
    "\n",
    "if SavePlots :\n",
    "    fig2.savefig('Scatter_prob_b_vs_bqvjet.pdf', dpi=600)\n",
    "\n",
    "\n",
    "# However, as can be seen in the figure, the overlap between b-jets and light-jets is large,\n",
    "# and one covers much of the other in a scatter plot, which also does not show the amount of\n",
    "# statistics in the dense regions. Therefore, we try two separate 2D histograms (zoomed):\n",
    "fig3, ax3 = plt.subplots(1, 2, figsize=(12, 6))\n",
    "hist2_prob_b_vs_bqvjet_bjets = ax3[0].hist2d(prob_b_bjets, bqvjet_bjets, bins=[40,40], range=[[0.0, 0.4], [0.0, 0.4]])\n",
    "hist2_prob_b_vs_bqvjet_ljets = ax3[1].hist2d(prob_b_ljets, bqvjet_ljets, bins=[40,40], range=[[0.0, 0.4], [0.0, 0.4]])\n",
    "ax3[0].set_title(\"b-jets\")\n",
    "ax3[1].set_title(\"light-jets\")\n",
    "\n",
    "fig3.tight_layout()\n",
    "\n",
    "if SavePlots :\n",
    "    fig3.savefig('Hist2D_prob_b_vs_bqvjet.pdf', dpi=600)"
   ]
  },
  {
   "cell_type": "markdown",
   "metadata": {},
   "source": [
    "# Selection:"
   ]
  },
  {
   "cell_type": "code",
   "execution_count": 9,
   "metadata": {},
   "outputs": [],
   "source": [
    "# I give the selection cuts names, so that they only need to be changed in ONE place (also ensures consistency!):\n",
    "# Note: This is where you change things (selection values and adding variables) to improve the performance:\n",
    "cut_bqvjet = 0.20\n",
    "\n",
    "# Think about how the above cuts \"works\", and then imagine what I have in mind below, trying to refine the selection:\n",
    "# cut_propb = 0.15\n",
    "# loose_propb = 0.07\n",
    "# tight_propb = 0.26\n",
    "# loose_bqvjet = 0.09\n",
    "# tight_bqvjet = 0.34\n",
    "\n",
    "# If prob_b indicate b-quark, call it a b-quark, otherwise not!\n",
    "bquark=[]\n",
    "for i in np.arange(len(prob_b)):\n",
    "    if (bqvjet[i] > cut_bqvjet) :\n",
    "        bquark.append(1)\n",
    "    else :\n",
    "        bquark.append(0)"
   ]
  },
  {
   "cell_type": "markdown",
   "metadata": {},
   "source": [
    "### Evaluate the selection:"
   ]
  },
  {
   "cell_type": "code",
   "execution_count": 10,
   "metadata": {},
   "outputs": [
    {
     "name": "stdout",
     "output_type": "stream",
     "text": [
      "\n",
      "RESULT OF HUMAN ATTEMPT AT A GOOD SELECTION:\n",
      "  First number in parenthesis is the estimate, second is the MC truth:\n",
      "  True-Negative (0,0)  =  3683\n",
      "  False-Negative (0,1) =  539\n",
      "  False-Positive (1,0) =  139\n",
      "  True-Positive (1,1)  =  639\n",
      "    Fraction wrong            = ( (0,1) + (1,0) ) / sum =  0.1356\n",
      "    Fraction right (accuracy) = ( (0,0) + (1,1) ) / sum =  0.8644000000000001\n"
     ]
    }
   ],
   "source": [
    "N, accuracy, fracWrong = evaluate(bquark)\n",
    "print(\"\\nRESULT OF HUMAN ATTEMPT AT A GOOD SELECTION:\")\n",
    "print(\"  First number in parenthesis is the estimate, second is the MC truth:\")\n",
    "print(\"  True-Negative (0,0)  = \", N[0][0])\n",
    "print(\"  False-Negative (0,1) = \", N[0][1])\n",
    "print(\"  False-Positive (1,0) = \", N[1][0])\n",
    "print(\"  True-Positive (1,1)  = \", N[1][1])\n",
    "print(\"    Fraction wrong            = ( (0,1) + (1,0) ) / sum = \", fracWrong)\n",
    "print(\"    Fraction right (accuracy) = ( (0,0) + (1,1) ) / sum = \", accuracy)"
   ]
  },
  {
   "cell_type": "code",
   "execution_count": 11,
   "metadata": {},
   "outputs": [],
   "source": [
    "### Compare with Aleph NN-approach from 1990'ies:"
   ]
  },
  {
   "cell_type": "code",
   "execution_count": 12,
   "metadata": {},
   "outputs": [
    {
     "name": "stdout",
     "output_type": "stream",
     "text": [
      "\n",
      "ALEPH BJET TAG:\n",
      "  First number in parenthesis is the estimate, second is the MC truth:\n",
      "  True-Negative (0,0)  =  3700\n",
      "  False-Negative (0,1) =  372\n",
      "  False-Positive (1,0) =  122\n",
      "  True-Positive (1,1)  =  806\n",
      "    Fraction wrong            = ( (0,1) + (1,0) ) / sum =  0.0988\n",
      "    Fraction right (accuracy) = ( (0,0) + (1,1) ) / sum =  0.9012\n"
     ]
    }
   ],
   "source": [
    "bquark=[]\n",
    "for i in np.arange(len(prob_b)):\n",
    "    if   (nnbjet[i] > 0.82) : bquark.append(1)\n",
    "    else : bquark.append(0)\n",
    "\n",
    "N, accuracy, fracWrong = evaluate(bquark)\n",
    "print(\"\\nALEPH BJET TAG:\")\n",
    "print(\"  First number in parenthesis is the estimate, second is the MC truth:\")\n",
    "print(\"  True-Negative (0,0)  = \", N[0][0])\n",
    "print(\"  False-Negative (0,1) = \", N[0][1])\n",
    "print(\"  False-Positive (1,0) = \", N[1][0])\n",
    "print(\"  True-Positive (1,1)  = \", N[1][1])\n",
    "print(\"    Fraction wrong            = ( (0,1) + (1,0) ) / sum = \", fracWrong)\n",
    "print(\"    Fraction right (accuracy) = ( (0,0) + (1,1) ) / sum = \", accuracy)"
   ]
  },
  {
   "cell_type": "markdown",
   "metadata": {},
   "source": [
    "# Suggested problems:\n",
    "\n",
    "1. Start by plotting the six \"Aleph classification variables\" for signal and background, and see which seems to separate most. Possibly draw ROC curves for all of these separately, to quantify this.\n",
    "\n",
    "2. As you can see, the Aleph-NN performs significantly better. Try to optimize your cuts, combining several of them in smart ways. You may also want to make a linear combination (i.e. Fisher Linear Discriminant) to do better. Challenge yourself to push it as far as you can (well, for say 30 minutes).\n",
    "\n",
    "3. Does including more data (50000 instead of 5000 events) help your performance?\n",
    "\n",
    "4. Currently, the scoring (also called the loss function) is simply done by considering the fraction of wrong estimates. Think about what the alternatives could be, especially if you were to give a continuous score like the Aleph-NN."
   ]
  },
  {
   "cell_type": "markdown",
   "metadata": {},
   "source": [
    "# Learning points:\n",
    "\n",
    "From this exercise you should get a feel for the problem at hand, namely how to separate two populations in a 6-dimensional space. It is hard to imagine, yet with simple cuts you should be able to get \"some performance\", though never anywhere close to the Aleph-NN. You should learn, that it is hard, but that at least the fact that you have known cases makes you capable of getting that \"some performance\". And you should of course be able to draw ROC curves to compare performances.\n",
    "\n",
    "The next steps (i.e. following exercises) are to improve this performance through the use of Machine Learning (ML), and make you capable not only of getting results, but also confident in optimising them, and certainly proficient in interpreting them."
   ]
  },
  {
   "cell_type": "markdown",
   "metadata": {},
   "source": [
    "# Introduction to a Neural Network based ML solution\n",
    "\n",
    "The following is a solution based on MLPclassifier (MLP = MultiLayer Perceptron, essentially a (feed forward) Neural Network). Examples of different code solutions can be found here:\n",
    "* https://scikit-learn.org/stable/modules/generated/sklearn.neural_network.MLPClassifier.html\n",
    "* https://michael-fuchs-python.netlify.app/2021/02/03/nn-multi-layer-perceptron-classifier-mlpclassifier/\n",
    "\n",
    "Generally, the steps are:\n",
    "1. Define training, validation, and testing samples.\n",
    "2. Define the feature (input) and target (output) variables.\n",
    "3. Define the loss function (i.e. what it should aim to optimize).\n",
    "4. Normalise the input (and possibly output) variables to a mean and variance around unity (i.e. 0 and 1).\n",
    "5. Fit for a model.\n",
    "6. Apply the model to the test set, and determine performance.\n",
    "\n",
    "Here, we read in the data in a slightly different way, better suited for ML-based approach \n",
    "...and we choose input and target variables:\n",
    "\n",
    "A few worlds on the variables and feature choices:\n",
    "* 'isb' is our binary truth variables. If isb = 1 then it's a b-quark and isb = 0 if it is not.\n",
    "   Because this is our truth, we must not include it as the input to our model.\n",
    "* 'nnbjet' is our \"competitor\" e.g. a model we are supposed to benchmark against.\n",
    "   Therefore 'nnbjet' shouldn't be in our input either.\n",
    "* 'energy', 'cTheta', and 'phi' are kinematic variables of the jet, and not about the jet type.\n",
    "   Though they might help, they were not in the original Aleph NN (nnbjet), and to compare, we omit them.\n",
    "\n",
    "Usually one would apply further checks/regularization/standardization of data at this step, but this data has already been \"prepared\", so we'll move onto seperate the data into input, truth, and benchmark:"
   ]
  },
  {
   "cell_type": "code",
   "execution_count": 13,
   "metadata": {},
   "outputs": [
    {
     "name": "stdout",
     "output_type": "stream",
     "text": [
      "Index(['energy', 'cTheta', 'phi', 'prob_b', 'spheri', 'pt2rel', 'multip',\n",
      "       'bqvjet', 'ptlrel', 'nnbjet', 'isb'],\n",
      "      dtype='object')\n",
      "  Variables used for training:  Index(['prob_b', 'spheri', 'pt2rel', 'multip', 'bqvjet', 'ptlrel'], dtype='object')\n"
     ]
    }
   ],
   "source": [
    "#We import the data slightly more convenient here\n",
    "import pandas as pd \n",
    "from pandas import Series, DataFrame \n",
    "\n",
    "# Read the data in using Pandas Dataframe and print the variables:\n",
    "data = pd.DataFrame(np.genfromtxt('AlephBtag_MC_train_Nev5000.csv', names=True))\n",
    "#data = pd.DataFrame(np.genfromtxt('AlephBtag_MC_train_Nev50000.csv', names=True))\n",
    "\n",
    "variables = data.columns\n",
    "print(variables)\n",
    "\n",
    "# Decide on which variables to use for input (X) and what defines the label (Y):\n",
    "input_variables = variables[(variables != 'nnbjet') & (variables != 'isb') & (variables != 'energy') & (variables != 'cTheta') & (variables != 'phi')]\n",
    "input_data      = data[input_variables]\n",
    "truth_data      = data['isb']\n",
    "benchmark_data  = data['nnbjet']\n",
    "print(\"  Variables used for training: \", input_variables)"
   ]
  },
  {
   "cell_type": "markdown",
   "metadata": {},
   "source": [
    "***\n",
    "\n",
    "## Classify B-jets using MLPclassifier\n",
    "\n",
    "MLPclassifier is one of the standard Neural Network ML methods, that is included in SciKit Learn."
   ]
  },
  {
   "cell_type": "code",
   "execution_count": 14,
   "metadata": {},
   "outputs": [
    {
     "name": "stdout",
     "output_type": "stream",
     "text": [
      "Time used by MLPClassifier: 1138.7 ms\n"
     ]
    }
   ],
   "source": [
    "from sklearn.model_selection import train_test_split\n",
    "from sklearn.neural_network import MLPClassifier\n",
    "from sklearn.metrics import roc_curve\n",
    "from sklearn.metrics import auc\n",
    "import time\n",
    "\n",
    "start=time.time()\n",
    "\n",
    "# Split data set into training and test set and feed these to LightGBM:\n",
    "# We choose a 75:25 division here. Dataset is shuffeled before the split. \n",
    "# By using a number (42), it creates a random seed so you can rerun and obtain the same result.\n",
    "input_train, input_test, truth_train, truth_test, benchmark_train, benchmark_test = train_test_split(input_data, truth_data, benchmark_data, test_size=0.25, random_state=42)\n",
    "\n",
    "clf = MLPClassifier(max_iter=20000,\n",
    "                    n_iter_no_change=100,           # Number of iterations without improvement before stopping\n",
    "                    solver='adam',                  # Standard for minimising\n",
    "                    activation='logistic',          # Standard function (but slightly slower)\n",
    "                    hidden_layer_sizes=(10, 10),    # Size of network (same as ALEPH)\n",
    "                    learning_rate='invscaling',     # Other options are \"constant\" and \"adaptive\"\n",
    "                    random_state=42)\n",
    "\n",
    "# Train the model:\n",
    "clf.fit(input_test, truth_test)\n",
    "\n",
    "# Make predictions (NOTE: The output is two columns: p_signal and p_background = 1 - p_signal):\n",
    "y_score_MLP = clf.predict_proba(input_test)\n",
    "\n",
    "# Print the time usage:\n",
    "end = time.time()\n",
    "print(f\"Time used by MLPClassifier: {(end-start)*1000:.1f} ms\")"
   ]
  },
  {
   "cell_type": "code",
   "execution_count": 15,
   "metadata": {},
   "outputs": [
    {
     "data": {
      "text/plain": [
       "Text(0, 0.5, 'True Positive Rate')"
      ]
     },
     "execution_count": 15,
     "metadata": {},
     "output_type": "execute_result"
    },
    {
     "data": {
      "image/png": "[encoded data removed]",
      "text/plain": [
       "<Figure size 720x720 with 1 Axes>"
      ]
     },
     "metadata": {
      "needs_background": "light"
     },
     "output_type": "display_data"
    }
   ],
   "source": [
    "# Evaluate:\n",
    "fpr, tpr, _ = roc_curve(truth_test, y_score_MLP[:,1])              # False/True Positive Rate for our model\n",
    "fpr_nnbjet, tpr_nnbjet, _ = roc_curve(truth_test, benchmark_test)  # False/True Positive Rate for Aleph NNbjet\n",
    "\n",
    "# We can now calculate the AUC scores of these ROC-curves:\n",
    "auc_score = auc(fpr,tpr)                        # This is the AUC score for our model\n",
    "auc_score_nnbjet = auc(fpr_nnbjet, tpr_nnbjet)  # This is the AUC score for Aleph NNbjet\n",
    "\n",
    "# Let's plot the ROC curves for these results:\n",
    "fig = plt.figure(figsize = [10,10])\n",
    "plt.title('Model ROC Comparison', size = 16)\n",
    "plt.plot(fpr, tpr, label=f'Our MLP model (AUC = {auc_score:5.3f})')\n",
    "plt.plot(fpr_nnbjet, tpr_nnbjet, label = f'Aleph NNbjet (AUC = {auc_score_nnbjet:5.3f})')\n",
    "plt.legend(fontsize=16)\n",
    "plt.xlabel('False Postive Rate', size=16)\n",
    "plt.ylabel('True Positive Rate', size=16)"
   ]
  },
  {
   "cell_type": "code",
   "execution_count": null,
   "metadata": {},
   "outputs": [],
   "source": []
  }
 ],
 "metadata": {
  "kernelspec": {
   "display_name": "Python 3",
   "language": "python",
   "name": "python3"
  },
  "language_info": {
   "codemirror_mode": {
    "name": "ipython",
    "version": 3
   },
   "file_extension": ".py",
   "mimetype": "text/x-python",
   "name": "python",
   "nbconvert_exporter": "python",
   "pygments_lexer": "ipython3",
   "version": "3.7.6"
  }
 },
 "nbformat": 4,
 "nbformat_minor": 2
}
